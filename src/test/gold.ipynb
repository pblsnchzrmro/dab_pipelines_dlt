{
 "cells": [
  {
   "cell_type": "code",
   "execution_count": 0,
   "metadata": {
    "application/vnd.databricks.v1+cell": {
     "cellMetadata": {
      "byteLimit": 2048000,
      "rowLimit": 10000
     },
     "inputWidgets": {},
     "nuid": "f110de39-3553-42d4-a108-b4d6b00d6e0a",
     "showTitle": false,
     "tableResultSettingsMap": {},
     "title": ""
    }
   },
   "outputs": [],
   "source": [
    "CREATE OR REFRESH MATERIALIZED VIEW products.sales_gold.total_sales_by_customer_${env}\n",
    "TBLPROPERTIES (\"quality\" = \"gold\")\n",
    "COMMENT \"Ventas totales y cantidad de órdenes por cliente\"\n",
    "AS\n",
    "SELECT \n",
    "  c.customer_id,\n",
    "  c.name AS customer_name,\n",
    "  COUNT(DISTINCT o.order_id) AS total_orders,\n",
    "  SUM(i.total_price) AS total_spent\n",
    "FROM products.sales_silver.orders_clean_${env} o\n",
    "JOIN products.sales_bronze.customers_dim_${env} c ON o.customer_id = c.customer_id\n",
    "JOIN products.sales_silver.order_items_clean_${env} i ON o.order_id = i.order_id\n",
    "GROUP BY c.customer_id, c.name;\n",
    "\n",
    "CREATE OR REFRESH MATERIALIZED VIEW products.sales_gold.total_sales_by_product_${env}\n",
    "TBLPROPERTIES (\"quality\" = \"gold\")\n",
    "COMMENT \"Ventas totales y cantidad vendida por producto\"\n",
    "AS\n",
    "SELECT \n",
    "  p.product_id,\n",
    "  p.name AS product_name,\n",
    "  COUNT(i.order_id) AS total_sales,\n",
    "  SUM(i.quantity) AS total_quantity,\n",
    "  SUM(i.total_price) AS total_revenue\n",
    "FROM products.sales_silver.order_items_clean_${env} i\n",
    "JOIN products.sales_bronze.products_dim_${env} p ON i.product_id = p.product_id\n",
    "GROUP BY p.product_id, p.name;\n",
    "\n",
    "CREATE OR REPLACE VIEW products.sales_gold.orders_view_${env}\n",
    "TBLPROPERTIES (\"quality\" = \"gold\")\n",
    "COMMENT \"Vista de los orders\"\n",
    "AS\n",
    "SELECT \n",
    "  order_id\n",
    "FROM products.sales_silver.order_items_clean_${env};"
   ]
  }
 ],
 "metadata": {
  "application/vnd.databricks.v1+notebook": {
   "computePreferences": null,
   "dashboards": [],
   "environmentMetadata": {
    "base_environment": "",
    "environment_version": "2"
   },
   "inputWidgetPreferences": null,
   "language": "sql",
   "notebookMetadata": {
    "pythonIndentUnit": 4
   },
   "notebookName": "gold",
   "widgets": {}
  },
  "language_info": {
   "name": "sql"
  }
 },
 "nbformat": 4,
 "nbformat_minor": 0
}
