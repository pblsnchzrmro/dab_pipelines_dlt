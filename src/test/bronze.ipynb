{
 "cells": [
  {
   "cell_type": "code",
   "execution_count": 0,
   "metadata": {
    "application/vnd.databricks.v1+cell": {
     "cellMetadata": {
      "byteLimit": 2048000,
      "rowLimit": 10000
     },
     "inputWidgets": {},
     "nuid": "0e33bf22-e734-4f55-9105-e795cb5b4ada",
     "showTitle": false,
     "tableResultSettingsMap": {},
     "title": ""
    },
    "jupyter": {
     "outputs_hidden": true
    }
   },
   "outputs": [],
   "source": [
    "CREATE OR REPLACE MATERIALIZED VIEW products.sales_bronze.customers_dim\n",
    "AS SELECT * FROM read_files(\n",
    "  \"/Volumes/products/sales_raw/stream_input/customers/customers.json\",\n",
    "  format => \"json\"\n",
    ");\n",
    "\n",
    "CREATE OR REPLACE MATERIALIZED VIEW products.sales_bronze.products_dim\n",
    "AS SELECT * FROM read_files(\n",
    "  \"/Volumes/products/sales_raw/stream_input/products/products.json\",\n",
    "  format => \"json\"\n",
    ");\n",
    "\n",
    "-- Órdenes (streaming con read_files)\n",
    "CREATE OR REFRESH STREAMING TABLE products.sales_bronze.orders_fact\n",
    "AS SELECT * FROM STREAM read_files(\n",
    "  \"/Volumes/products/sales_raw/stream_input/orders/\",\n",
    "  format => \"json\"\n",
    ");\n",
    "\n",
    "-- Ítems de órdenes (streaming con read_files)\n",
    "CREATE OR REFRESH STREAMING TABLE products.sales_bronze.order_items_fact\n",
    "AS SELECT * FROM STREAM read_files(\n",
    "  \"/Volumes/products/sales_raw/stream_input/order_items/\",\n",
    "  format => \"json\"\n",
    ");\n"
   ]
  }
 ],
 "metadata": {
  "application/vnd.databricks.v1+notebook": {
   "computePreferences": null,
   "dashboards": [],
   "environmentMetadata": {
    "base_environment": "",
    "environment_version": "2"
   },
   "inputWidgetPreferences": null,
   "language": "sql",
   "notebookMetadata": {
    "pythonIndentUnit": 4
   },
   "notebookName": "bronze",
   "widgets": {}
  },
  "language_info": {
   "name": "sql"
  }
 },
 "nbformat": 4,
 "nbformat_minor": 0
}
