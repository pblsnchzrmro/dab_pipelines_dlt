{
 "cells": [
  {
   "cell_type": "code",
   "execution_count": 0,
   "metadata": {
    "application/vnd.databricks.v1+cell": {
     "cellMetadata": {},
     "inputWidgets": {},
     "nuid": "c389a015-7630-42e2-bb77-c4d049e4519b",
     "showTitle": false,
     "tableResultSettingsMap": {},
     "title": ""
    }
   },
   "outputs": [],
   "source": [
    "%sql\n"
   ]
  },
  {
   "cell_type": "code",
   "execution_count": 0,
   "metadata": {
    "application/vnd.databricks.v1+cell": {
     "cellMetadata": {
      "byteLimit": 2048000,
      "rowLimit": 10000
     },
     "inputWidgets": {},
     "nuid": "7dbd663e-7a96-4c38-9047-05a50f5d8154",
     "showTitle": false,
     "tableResultSettingsMap": {},
     "title": ""
    }
   },
   "outputs": [],
   "source": [
    "-- Tabla de órdenes limpias\n",
    "CREATE OR REFRESH STREAMING TABLE products.sales_silver.orders_clean_${env} (\n",
    "  CONSTRAINT `order_id must be present`       EXPECT (order_id IS NOT NULL),\n",
    "  CONSTRAINT `customer_id should be present`  EXPECT (customer_id IS NOT NULL),\n",
    "  CONSTRAINT `valid timestamp`                EXPECT (order_timestamp IS NOT NULL) ON VIOLATION DROP ROW\n",
    ")\n",
    "TBLPROPERTIES (\"quality\" = \"silver\")\n",
    "COMMENT \"Órdenes limpias con timestamp parseado\"\n",
    "AS\n",
    "SELECT \n",
    "  order_id,\n",
    "  customer_id,\n",
    "  CAST(timestamp AS TIMESTAMP) AS order_timestamp\n",
    "FROM STREAM(products.sales_bronze.orders_fact_${env});\n",
    "\n",
    "-- Tabla de ítems de orden limpios\n",
    "CREATE OR REFRESH STREAMING TABLE products.sales_silver.order_items_clean_${env} (\n",
    "  CONSTRAINT `order_id must be present`    EXPECT (order_id IS NOT NULL),\n",
    "  CONSTRAINT `product_id should exist`     EXPECT (product_id IS NOT NULL),\n",
    "  CONSTRAINT `quantity must be positive`   EXPECT (quantity > 0) ON VIOLATION DROP ROW,\n",
    "  CONSTRAINT `price must be positive`      EXPECT (price > 0) ON VIOLATION DROP ROW,\n",
    "  CONSTRAINT `valid timestamp`             EXPECT (item_timestamp IS NOT NULL) ON VIOLATION DROP ROW\n",
    ")\n",
    "\n",
    "TBLPROPERTIES (\"quality\" = \"silver\")\n",
    "COMMENT \"Ítems con cálculo de total_price (sin joins)\"\n",
    "AS\n",
    "SELECT \n",
    "  order_id,\n",
    "  product_id,\n",
    "  CAST(timestamp AS TIMESTAMP) AS item_timestamp,\n",
    "  quantity,\n",
    "  price,\n",
    "  quantity * price AS total_price\n",
    "FROM STREAM(products.sales_bronze.order_items_fact_${env});\n"
   ]
  }
 ],
 "metadata": {
  "application/vnd.databricks.v1+notebook": {
   "computePreferences": null,
   "dashboards": [],
   "environmentMetadata": {
    "base_environment": "",
    "environment_version": "2"
   },
   "inputWidgetPreferences": null,
   "language": "sql",
   "notebookMetadata": {
    "pythonIndentUnit": 4
   },
   "notebookName": "silver",
   "widgets": {}
  },
  "language_info": {
   "name": "sql"
  }
 },
 "nbformat": 4,
 "nbformat_minor": 0
}
