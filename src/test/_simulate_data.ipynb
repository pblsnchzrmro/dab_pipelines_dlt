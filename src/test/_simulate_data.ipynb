{
 "cells": [
  {
   "cell_type": "code",
   "execution_count": 0,
   "metadata": {
    "application/vnd.databricks.v1+cell": {
     "cellMetadata": {
      "byteLimit": 2048000,
      "rowLimit": 10000
     },
     "inputWidgets": {},
     "nuid": "d29798f3-7666-48b4-98ee-16288fe8c088",
     "showTitle": false,
     "tableResultSettingsMap": {},
     "title": ""
    }
   },
   "outputs": [],
   "source": [
    "import json\n",
    "import random\n",
    "import uuid\n",
    "import time\n",
    "from datetime import datetime\n",
    "import os\n",
    "\n",
    "base_path = \"/Volumes/products/sales_raw/stream_input/\"\n",
    "customers_path = base_path + \"customers/\"\n",
    "products_path = base_path + \"products/\"\n",
    "orders_path = base_path + \"orders/\"\n",
    "order_items_path = base_path + \"order_items/\"\n",
    "\n",
    "os.makedirs(customers_path, exist_ok=True)\n",
    "os.makedirs(products_path, exist_ok=True)\n",
    "os.makedirs(orders_path, exist_ok=True)\n",
    "os.makedirs(order_items_path, exist_ok=True)\n",
    "\n",
    "customers = [{\"customer_id\": f\"CUST{str(i).zfill(3)}\", \"name\": f\"Customer {i}\"} for i in range(10)]\n",
    "products = [{\"product_id\": f\"PROD{str(i).zfill(3)}\", \"name\": f\"Product {i}\", \"price\": round(random.uniform(10, 100), 2)} for i in range(20)]\n",
    "\n",
    "# Guardar dimensiones si no existen\n",
    "if not os.path.exists(customers_path + \"customers.json\"):\n",
    "    with open(customers_path + \"customers.json\", \"w\") as f:\n",
    "        for row in customers:\n",
    "            f.write(json.dumps(row) + \"\\n\")\n",
    "\n",
    "if not os.path.exists(products_path + \"products.json\"):\n",
    "    with open(products_path + \"products.json\", \"w\") as f:\n",
    "        for row in products:\n",
    "            f.write(json.dumps(row) + \"\\n\")\n",
    "\n",
    "# Inyección de datos en streaming con nulos aleatorios\n",
    "while True:\n",
    "    order_id = str(uuid.uuid4())\n",
    "\n",
    "    # Randomiza si el customer_id será nulo\n",
    "    customer = random.choice(customers)\n",
    "    customer_id = customer[\"customer_id\"] if random.random() > 0.1 else None  # 10% de nulos\n",
    "\n",
    "    num_items = random.randint(1, 5)\n",
    "    order_items = []\n",
    "\n",
    "    for _ in range(num_items):\n",
    "        product = random.choice(products)\n",
    "        \n",
    "        # Randomiza campos nulos\n",
    "        product_id = product[\"product_id\"] if random.random() > 0.1 else None  # 10%\n",
    "        quantity = random.randint(1, 3) if random.random() > 0.1 else None\n",
    "        price = product[\"price\"] if random.random() > 0.1 else None\n",
    "\n",
    "        order_items.append({\n",
    "            \"order_id\": order_id,\n",
    "            \"product_id\": product_id,\n",
    "            \"quantity\": quantity,\n",
    "            \"price\": price,\n",
    "            \"timestamp\": datetime.utcnow().isoformat()\n",
    "        })\n",
    "\n",
    "    order_record = {\n",
    "        \"order_id\": order_id,\n",
    "        \"customer_id\": customer_id,\n",
    "        \"timestamp\": datetime.utcnow().isoformat()\n",
    "    }\n",
    "\n",
    "    ts = int(time.time() * 1000)\n",
    "    with open(orders_path + f\"orders_{ts}.json\", \"w\") as f:\n",
    "        f.write(json.dumps(order_record) + \"\\n\")\n",
    "\n",
    "    with open(order_items_path + f\"order_items_{ts}.json\", \"w\") as f:\n",
    "        for item in order_items:\n",
    "            f.write(json.dumps(item) + \"\\n\")\n",
    "\n",
    "    time.sleep(10)"
   ]
  }
 ],
 "metadata": {
  "application/vnd.databricks.v1+notebook": {
   "computePreferences": null,
   "dashboards": [],
   "environmentMetadata": {
    "base_environment": "",
    "environment_version": "2"
   },
   "inputWidgetPreferences": null,
   "language": "python",
   "notebookMetadata": {
    "pythonIndentUnit": 4
   },
   "notebookName": "_simulate_data",
   "widgets": {}
  },
  "language_info": {
   "name": "python"
  }
 },
 "nbformat": 4,
 "nbformat_minor": 0
}
